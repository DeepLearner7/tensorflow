{
 "cells": [
  {
   "cell_type": "code",
   "execution_count": 1,
   "metadata": {},
   "outputs": [],
   "source": [
    "import numpy as np\n",
    "import tensorflow as tf\n",
    "import matplotlib.pyplot as plt\n",
    "%matplotlib inline"
   ]
  },
  {
   "cell_type": "code",
   "execution_count": 24,
   "metadata": {},
   "outputs": [],
   "source": [
    "def sigmoid(x):\n",
    "    return 1/(1+np.exp(-x))"
   ]
  },
  {
   "cell_type": "code",
   "execution_count": 90,
   "metadata": {},
   "outputs": [],
   "source": [
    "x = np.arange(1, 101)\n",
    "x = x.reshape(100, 1)"
   ]
  },
  {
   "cell_type": "code",
   "execution_count": 91,
   "metadata": {},
   "outputs": [
    {
     "data": {
      "text/plain": [
       "<matplotlib.collections.PathCollection at 0x7f223456d9b0>"
      ]
     },
     "execution_count": 91,
     "metadata": {},
     "output_type": "execute_result"
    },
    {
     "data": {
      "image/png": "[encoded data removed]",
      "text/plain": [
       "<Figure size 432x288 with 1 Axes>"
      ]
     },
     "metadata": {
      "needs_background": "light"
     },
     "output_type": "display_data"
    }
   ],
   "source": [
    "l = []\n",
    "for i in range(50):\n",
    "    l.append(0)\n",
    "    \n",
    "for i in range(50):\n",
    "    l.append(1)\n",
    "    \n",
    "y = np.array(l).reshape(100, 1)\n",
    "'''\n",
    "import random\n",
    "binary = [0, 1]\n",
    "y = np.array([random.choice(binary) for i in range(100)])\n",
    "y = y.reshape(100, 1)\n",
    "'''\n",
    "plt.scatter(x, y.T)"
   ]
  },
  {
   "cell_type": "code",
   "execution_count": 92,
   "metadata": {},
   "outputs": [],
   "source": [
    "import tensorflow as tf"
   ]
  },
  {
   "cell_type": "code",
   "execution_count": 93,
   "metadata": {},
   "outputs": [],
   "source": [
    "x_in = tf.placeholder(tf.float32, shape=[None, 1], name='x')\n",
    "y_in = tf.placeholder(tf.float32, shape=None, name='y')"
   ]
  },
  {
   "cell_type": "code",
   "execution_count": 6,
   "metadata": {},
   "outputs": [],
   "source": [
    "w = tf.get_variable('w', dtype=tf.float32, shape=[1,1], initializer=tf.contrib.layers.xavier_initializer())\n",
    "b = tf.get_variable('b', dtype=tf.float32, shape=[1,1], initializer=tf.contrib.layers.xavier_initializer())"
   ]
  },
  {
   "cell_type": "code",
   "execution_count": 94,
   "metadata": {},
   "outputs": [],
   "source": [
    "y_pred = tf.matmul(w, tf.transpose(x_in)) + b\n",
    "\n",
    "loss = tf.nn.sigmoid_cross_entropy_with_logits(labels=y_in, logits=y_pred)\n",
    "loss = tf.reduce_mean(loss)\n",
    "opt = tf.train.GradientDescentOptimizer(0.001)\n",
    "train = opt.minimize(loss)"
   ]
  },
  {
   "cell_type": "code",
   "execution_count": 95,
   "metadata": {},
   "outputs": [
    {
     "name": "stdout",
     "output_type": "stream",
     "text": [
      "loss:  41.275875\n",
      "loss:  [array([[1.6141201]], dtype=float32), array([[1.0369707]], dtype=float32)]\n",
      "loss:  0.712358\n",
      "loss:  [array([[-0.01185895]], dtype=float32), array([[0.79551315]], dtype=float32)]\n",
      "loss:  0.7050763\n",
      "loss:  [array([[-0.00932533]], dtype=float32), array([[0.62525386]], dtype=float32)]\n",
      "loss:  0.7005102\n",
      "loss:  [array([[-0.00731689]], dtype=float32), array([[0.49044058]], dtype=float32)]\n",
      "loss:  0.69767565\n",
      "loss:  [array([[-0.00573301]], dtype=float32), array([[0.38420263]], dtype=float32)]\n",
      "loss:  0.69592524\n",
      "loss:  [array([[-0.00448807]], dtype=float32), array([[0.3007368]], dtype=float32)]\n",
      "loss:  0.69485086\n",
      "loss:  [array([[-0.00351157]], dtype=float32), array([[0.23528683]], dtype=float32)]\n",
      "loss:  0.69418925\n",
      "loss:  [array([[-0.00274662]], dtype=float32), array([[0.18402468]], dtype=float32)]\n",
      "loss:  0.6937827\n",
      "loss:  [array([[-0.00214787]], dtype=float32), array([[0.1439042]], dtype=float32)]\n",
      "loss:  0.69353604\n",
      "loss:  [array([[-0.00167942]], dtype=float32), array([[0.11251772]], dtype=float32)]\n"
     ]
    }
   ],
   "source": [
    "with tf.Session() as sess:\n",
    "    sess.run(tf.global_variables_initializer())\n",
    "    \n",
    "    for step in range(40000):\n",
    "        sess.run(train, feed_dict={x_in:x, y_in:y})\n",
    "        if step%4000==0:\n",
    "            print(\"loss: \", sess.run(loss, feed_dict={x_in:x, y_in:y}))\n",
    "            print(\"loss: \", sess.run([w, b]))\n",
    "            y_bckup = sess.run(y_pred, feed_dict={x_in:x, y_in:y})"
   ]
  },
  {
   "cell_type": "code",
   "execution_count": 96,
   "metadata": {},
   "outputs": [
    {
     "data": {
      "text/plain": [
       "[<matplotlib.lines.Line2D at 0x7f223450bbe0>]"
      ]
     },
     "execution_count": 96,
     "metadata": {},
     "output_type": "execute_result"
    },
    {
     "data": {
      "image/png": "[encoded data removed]",
      "text/plain": [
       "<Figure size 432x288 with 1 Axes>"
      ]
     },
     "metadata": {
      "needs_background": "light"
     },
     "output_type": "display_data"
    }
   ],
   "source": [
    "plt.scatter(x, y.T)\n",
    "plt.plot(x, y_bckup.T, c='r')"
   ]
  },
  {
   "cell_type": "code",
   "execution_count": null,
   "metadata": {},
   "outputs": [],
   "source": []
  }
 ],
 "metadata": {
  "kernelspec": {
   "display_name": "Python 3",
   "language": "python",
   "name": "python3"
  },
  "language_info": {
   "codemirror_mode": {
    "name": "ipython",
    "version": 3
   },
   "file_extension": ".py",
   "mimetype": "text/x-python",
   "name": "python",
   "nbconvert_exporter": "python",
   "pygments_lexer": "ipython3",
   "version": "3.6.6"
  }
 },
 "nbformat": 4,
 "nbformat_minor": 2
}
