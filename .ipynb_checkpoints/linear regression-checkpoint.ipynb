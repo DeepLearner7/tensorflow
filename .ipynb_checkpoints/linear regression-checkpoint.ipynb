{
 "cells": [
  {
   "cell_type": "code",
   "execution_count": 10,
   "metadata": {},
   "outputs": [],
   "source": [
    "import numpy as np\n",
    "import tensorflow as tf\n",
    "import matplotlib.pyplot as plt\n",
    "%matplotlib inline"
   ]
  },
  {
   "cell_type": "code",
   "execution_count": 12,
   "metadata": {},
   "outputs": [],
   "source": [
    "x = np.random.rand(100, 1)\n",
    "y = 5*x.T\n",
    "noise = np.random.uniform(low=-1.0, high=1.0, size=(1, 100))\n",
    "y = y + noise"
   ]
  },
  {
   "cell_type": "code",
   "execution_count": 3,
   "metadata": {},
   "outputs": [
    {
     "data": {
      "text/plain": [
       "<matplotlib.collections.PathCollection at 0x7f28524605f8>"
      ]
     },
     "execution_count": 3,
     "metadata": {},
     "output_type": "execute_result"
    },
    {
     "data": {
      "image/png": "[encoded data removed]",
      "text/plain": [
       "<Figure size 432x288 with 1 Axes>"
      ]
     },
     "metadata": {
      "needs_background": "light"
     },
     "output_type": "display_data"
    }
   ],
   "source": [
    "plt.scatter(x, y)"
   ]
  },
  {
   "cell_type": "code",
   "execution_count": 4,
   "metadata": {},
   "outputs": [],
   "source": [
    "x1 = tf.placeholder(tf.float32, shape=[None, 1], name='x')\n",
    "y1 = tf.placeholder(tf.float32, shape=None, name='y')"
   ]
  },
  {
   "cell_type": "code",
   "execution_count": 5,
   "metadata": {},
   "outputs": [],
   "source": [
    "w3 = tf.get_variable('w', dtype=tf.float32, shape=[1,1], initializer=tf.contrib.layers.xavier_initializer())\n",
    "b3 = tf.get_variable('b', dtype=tf.float32, shape=[1,1], initializer= tf.contrib.layers.xavier_initializer())"
   ]
  },
  {
   "cell_type": "code",
   "execution_count": 6,
   "metadata": {},
   "outputs": [],
   "source": [
    "y_pred = tf.matmul(w3, tf.transpose(x1)) + b3\n",
    "loss1 = tf.reduce_mean(tf.square(y1 - y_pred))\n",
    "optimizer1 = tf.train.GradientDescentOptimizer(0.001).minimize(loss1)"
   ]
  },
  {
   "cell_type": "code",
   "execution_count": 7,
   "metadata": {
    "scrolled": true
   },
   "outputs": [
    {
     "name": "stdout",
     "output_type": "stream",
     "text": [
      "[[1.389248]]\n",
      "[[2.701725]]\n",
      "[[3.0518758]]\n",
      "[[3.2978683]]\n",
      "[[3.5100865]]\n",
      "[[3.697032]]\n",
      "[[3.8620234]]\n",
      "[[4.0076637]]\n",
      "[[4.1362243]]\n",
      "[[4.2497087]]\n",
      "[[4.3498826]]\n",
      "[[4.4383087]]\n",
      "[[4.516367]]\n",
      "[[4.58527]]\n",
      "[[4.646092]]\n",
      "[[4.6997814]]\n",
      "[[4.7471743]]\n",
      "[[4.78901]]\n",
      "[[4.8259373]]\n",
      "[[4.8585334]]\n",
      "[[4.88731]]\n",
      "[[4.912705]]\n",
      "[[4.935126]]\n",
      "[[4.9549146]]\n",
      "[[4.9723916]]\n",
      "[[4.9878106]]\n",
      "[[5.0014153]]\n",
      "[[5.013435]]\n",
      "[[5.0240297]]\n",
      "[[5.0334063]]\n",
      "[[5.041655]]\n",
      "[[5.0489535]]\n",
      "[[5.055387]]\n",
      "[[5.0610523]]\n",
      "[[5.06606]]\n",
      "[[5.070495]]\n",
      "[[5.0744004]]\n",
      "[[5.077828]]\n",
      "[[5.080846]]\n",
      "[[5.083544]]\n"
     ]
    }
   ],
   "source": [
    "with tf.Session() as sess:\n",
    "    sess.run(tf.global_variables_initializer())\n",
    "    for steps in range(40000):\n",
    "        sess.run(optimizer1, feed_dict={x1:x, y1:y})\n",
    "        if steps%1000==0:\n",
    "            print(sess.run(w3))\n",
    "            y_bckup = sess.run(y_pred, feed_dict={x1:x, y1:y})"
   ]
  },
  {
   "cell_type": "code",
   "execution_count": 8,
   "metadata": {},
   "outputs": [
    {
     "data": {
      "text/plain": [
       "[<matplotlib.lines.Line2D at 0x7f28524482e8>]"
      ]
     },
     "execution_count": 8,
     "metadata": {},
     "output_type": "execute_result"
    },
    {
     "data": {
      "image/png": "[encoded data removed]",
      "text/plain": [
       "<Figure size 432x288 with 1 Axes>"
      ]
     },
     "metadata": {
      "needs_background": "light"
     },
     "output_type": "display_data"
    }
   ],
   "source": [
    "plt.scatter(x, y)\n",
    "plt.plot(x, y_bckup.T, c='r')"
   ]
  }
 ],
 "metadata": {
  "kernelspec": {
   "display_name": "Python 3",
   "language": "python",
   "name": "python3"
  },
  "language_info": {
   "codemirror_mode": {
    "name": "ipython",
    "version": 3
   },
   "file_extension": ".py",
   "mimetype": "text/x-python",
   "name": "python",
   "nbconvert_exporter": "python",
   "pygments_lexer": "ipython3",
   "version": "3.6.6"
  }
 },
 "nbformat": 4,
 "nbformat_minor": 2
}
