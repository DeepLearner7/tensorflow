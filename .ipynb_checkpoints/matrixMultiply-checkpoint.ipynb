{
 "cells": [
  {
   "cell_type": "code",
   "execution_count": 2,
   "metadata": {},
   "outputs": [],
   "source": [
    "import tensorflow as tf\n",
    "import numpy as np"
   ]
  },
  {
   "cell_type": "code",
   "execution_count": 8,
   "metadata": {},
   "outputs": [],
   "source": [
    "a = tf.constant(np.arange(2, 10, dtype=np.int32), shape=[2,4])\n",
    "b = tf.constant(np.arange(20, 28, dtype=np.int32), shape=[4,2])"
   ]
  },
  {
   "cell_type": "code",
   "execution_count": 10,
   "metadata": {},
   "outputs": [
    {
     "name": "stdout",
     "output_type": "stream",
     "text": [
      "[[2 3 4 5]\n",
      " [6 7 8 9]]\n",
      "\n",
      "[[20 21]\n",
      " [22 23]\n",
      " [24 25]\n",
      " [26 27]]\n",
      "\n",
      "[[166 207 248 289]\n",
      " [182 227 272 317]\n",
      " [198 247 296 345]\n",
      " [214 267 320 373]]\n"
     ]
    }
   ],
   "source": [
    "with tf.Session() as sess:\n",
    "    print(sess.run(a))\n",
    "    print()\n",
    "    print(sess.run(b))\n",
    "    print()\n",
    "    print(sess.run(tf.matmul(b,a)))"
   ]
  },
  {
   "cell_type": "code",
   "execution_count": 19,
   "metadata": {},
   "outputs": [],
   "source": [
    "c = tf.constant(np.arange(2, 10, dtype=np.int32), shape=[2,2,2,4])\n",
    "d = tf.constant(np.arange(20, 28, dtype=np.int32), shape=[2,2,4,4])"
   ]
  },
  {
   "cell_type": "code",
   "execution_count": 20,
   "metadata": {},
   "outputs": [
    {
     "name": "stdout",
     "output_type": "stream",
     "text": [
      "[[[[2 3 4 5]\n",
      "   [6 7 8 9]]\n",
      "\n",
      "  [[9 9 9 9]\n",
      "   [9 9 9 9]]]\n",
      "\n",
      "\n",
      " [[[9 9 9 9]\n",
      "   [9 9 9 9]]\n",
      "\n",
      "  [[9 9 9 9]\n",
      "   [9 9 9 9]]]]\n",
      "\n",
      "[[[[20 21 22 23]\n",
      "   [24 25 26 27]\n",
      "   [27 27 27 27]\n",
      "   [27 27 27 27]]\n",
      "\n",
      "  [[27 27 27 27]\n",
      "   [27 27 27 27]\n",
      "   [27 27 27 27]\n",
      "   [27 27 27 27]]]\n",
      "\n",
      "\n",
      " [[[27 27 27 27]\n",
      "   [27 27 27 27]\n",
      "   [27 27 27 27]\n",
      "   [27 27 27 27]]\n",
      "\n",
      "  [[27 27 27 27]\n",
      "   [27 27 27 27]\n",
      "   [27 27 27 27]\n",
      "   [27 27 27 27]]]]\n",
      "\n",
      "[[[[355 360 365 370]\n",
      "   [747 760 773 786]]\n",
      "\n",
      "  [[972 972 972 972]\n",
      "   [972 972 972 972]]]\n",
      "\n",
      "\n",
      " [[[972 972 972 972]\n",
      "   [972 972 972 972]]\n",
      "\n",
      "  [[972 972 972 972]\n",
      "   [972 972 972 972]]]]\n"
     ]
    }
   ],
   "source": [
    "with tf.Session() as sess:\n",
    "    print(sess.run(c))\n",
    "    print()\n",
    "    print(sess.run(d))\n",
    "    print()\n",
    "    print(sess.run(tf.matmul(c,d)))"
   ]
  }
 ],
 "metadata": {
  "kernelspec": {
   "display_name": "Python 3",
   "language": "python",
   "name": "python3"
  },
  "language_info": {
   "codemirror_mode": {
    "name": "ipython",
    "version": 3
   },
   "file_extension": ".py",
   "mimetype": "text/x-python",
   "name": "python",
   "nbconvert_exporter": "python",
   "pygments_lexer": "ipython3",
   "version": "3.6.6"
  }
 },
 "nbformat": 4,
 "nbformat_minor": 2
}
