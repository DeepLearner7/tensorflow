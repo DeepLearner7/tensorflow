{
 "cells": [
  {
   "cell_type": "code",
   "execution_count": 1,
   "metadata": {},
   "outputs": [],
   "source": [
    "import numpy as np\n",
    "import tensorflow as tf\n",
    "import matplotlib.pyplot as plt\n",
    "%matplotlib inline"
   ]
  },
  {
   "cell_type": "code",
   "execution_count": 2,
   "metadata": {},
   "outputs": [],
   "source": [
    "x = np.random.rand(100, 1)\n",
    "y = 5*x.T\n",
    "noise = np.random.uniform(low=-1.0, high=1.0, size=(1, 100))\n",
    "y = y + noise"
   ]
  },
  {
   "cell_type": "code",
   "execution_count": 3,
   "metadata": {},
   "outputs": [
    {
     "data": {
      "text/plain": [
       "<matplotlib.collections.PathCollection at 0x7ff477303320>"
      ]
     },
     "execution_count": 3,
     "metadata": {},
     "output_type": "execute_result"
    },
    {
     "data": {
      "image/png": "[encoded data removed]",
      "text/plain": [
       "<Figure size 432x288 with 1 Axes>"
      ]
     },
     "metadata": {
      "needs_background": "light"
     },
     "output_type": "display_data"
    }
   ],
   "source": [
    "plt.scatter(x, y)"
   ]
  },
  {
   "cell_type": "code",
   "execution_count": 4,
   "metadata": {},
   "outputs": [],
   "source": [
    "x1 = tf.placeholder(tf.float32, shape=[None, 1], name='x')\n",
    "y1 = tf.placeholder(tf.float32, shape=None, name='y')"
   ]
  },
  {
   "cell_type": "code",
   "execution_count": 5,
   "metadata": {},
   "outputs": [],
   "source": [
    "w3 = tf.get_variable('w', dtype=tf.float32, shape=[1,1], initializer=tf.contrib.layers.xavier_initializer())\n",
    "b3 = tf.get_variable('b', dtype=tf.float32, shape=[1,1], initializer= tf.contrib.layers.xavier_initializer())"
   ]
  },
  {
   "cell_type": "code",
   "execution_count": 6,
   "metadata": {},
   "outputs": [],
   "source": [
    "y_pred = tf.matmul(w3, tf.transpose(x1)) + b3\n",
    "loss1 = tf.reduce_mean(tf.square(y1 - y_pred))\n",
    "optimizer1 = tf.train.GradientDescentOptimizer(0.001).minimize(loss1)"
   ]
  },
  {
   "cell_type": "code",
   "execution_count": 13,
   "metadata": {
    "scrolled": true
   },
   "outputs": [
    {
     "name": "stdout",
     "output_type": "stream",
     "text": [
      "[[0.40629166]]\n",
      "[[2.1652138]]\n",
      "[[2.642107]]\n",
      "[[2.971514]]\n",
      "[[3.250155]]\n",
      "[[3.4909809]]\n",
      "[[3.6995409]]\n",
      "[[3.8801942]]\n",
      "[[4.036676]]\n",
      "[[4.1722217]]\n",
      "[[4.289629]]\n",
      "[[4.3913302]]\n",
      "[[4.4794216]]\n",
      "[[4.555728]]\n",
      "[[4.6218247]]\n",
      "[[4.679079]]\n",
      "[[4.72867]]\n",
      "[[4.771627]]\n",
      "[[4.808839]]\n",
      "[[4.841065]]\n",
      "[[4.8689885]]\n",
      "[[4.8931656]]\n",
      "[[4.9141116]]\n",
      "[[4.9322596]]\n",
      "[[4.9479737]]\n",
      "[[4.961591]]\n",
      "[[4.9733667]]\n",
      "[[4.9835777]]\n",
      "[[4.992426]]\n",
      "[[5.000079]]\n",
      "[[5.0067115]]\n",
      "[[5.0124598]]\n",
      "[[5.017442]]\n",
      "[[5.021762]]\n",
      "[[5.025473]]\n",
      "[[5.028703]]\n",
      "[[5.0315304]]\n",
      "[[5.0339146]]\n",
      "[[5.035971]]\n",
      "[[5.0378785]]\n"
     ]
    }
   ],
   "source": [
    "with tf.Session() as sess:\n",
    "    sess.run(tf.global_variables_initializer())\n",
    "    for steps in range(40000):\n",
    "        sess.run(optimizer1, feed_dict={x1:x, y1:y})\n",
    "        if steps%1000==0:\n",
    "            print(sess.run(w3))\n",
    "            y_bckup = sess.run(y_pred, feed_dict={x1:x, y1:y})"
   ]
  },
  {
   "cell_type": "code",
   "execution_count": 11,
   "metadata": {},
   "outputs": [
    {
     "data": {
      "text/plain": [
       "[<matplotlib.lines.Line2D at 0x7ff4772ed9e8>]"
      ]
     },
     "execution_count": 11,
     "metadata": {},
     "output_type": "execute_result"
    },
    {
     "data": {
      "image/png": "[encoded data removed]",
      "text/plain": [
       "<Figure size 432x288 with 1 Axes>"
      ]
     },
     "metadata": {
      "needs_background": "light"
     },
     "output_type": "display_data"
    }
   ],
   "source": [
    "plt.scatter(x, y)\n",
    "plt.plot(x, y_bckup.T, c='r')"
   ]
  }
 ],
 "metadata": {
  "kernelspec": {
   "display_name": "Python 3",
   "language": "python",
   "name": "python3"
  },
  "language_info": {
   "codemirror_mode": {
    "name": "ipython",
    "version": 3
   },
   "file_extension": ".py",
   "mimetype": "text/x-python",
   "name": "python",
   "nbconvert_exporter": "python",
   "pygments_lexer": "ipython3",
   "version": "3.6.6"
  }
 },
 "nbformat": 4,
 "nbformat_minor": 2
}
