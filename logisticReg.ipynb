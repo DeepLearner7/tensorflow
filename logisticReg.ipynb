{
 "cells": [
  {
   "cell_type": "code",
   "execution_count": 2,
   "metadata": {},
   "outputs": [],
   "source": [
    "import numpy as np\n",
    "import tensorflow as tf\n",
    "import matplotlib.pyplot as plt\n",
    "%matplotlib inline"
   ]
  },
  {
   "cell_type": "code",
   "execution_count": 3,
   "metadata": {},
   "outputs": [],
   "source": [
    "def sigmoid(x):\n",
    "    return 1/(1+np.exp(-x))"
   ]
  },
  {
   "cell_type": "code",
   "execution_count": 4,
   "metadata": {},
   "outputs": [],
   "source": [
    "x = np.arange(1, 101)\n",
    "x = x.reshape(100, 1)"
   ]
  },
  {
   "cell_type": "code",
   "execution_count": 5,
   "metadata": {},
   "outputs": [
    {
     "data": {
      "text/plain": [
       "<matplotlib.collections.PathCollection at 0x7f72d4f96f98>"
      ]
     },
     "execution_count": 5,
     "metadata": {},
     "output_type": "execute_result"
    },
    {
     "data": {
      "image/png": "[encoded data removed]",
      "text/plain": [
       "<Figure size 432x288 with 1 Axes>"
      ]
     },
     "metadata": {
      "needs_background": "light"
     },
     "output_type": "display_data"
    }
   ],
   "source": [
    "l = []\n",
    "for i in range(50):\n",
    "    l.append(0)\n",
    "    \n",
    "for i in range(50):\n",
    "    l.append(1)\n",
    "    \n",
    "y = np.array(l).reshape(100, 1)\n",
    "'''\n",
    "import random\n",
    "binary = [0, 1]\n",
    "y = np.array([random.choice(binary) for i in range(100)])\n",
    "y = y.reshape(100, 1)\n",
    "'''\n",
    "plt.scatter(x, y.T)"
   ]
  },
  {
   "cell_type": "code",
   "execution_count": 6,
   "metadata": {},
   "outputs": [],
   "source": [
    "import tensorflow as tf"
   ]
  },
  {
   "cell_type": "code",
   "execution_count": 7,
   "metadata": {},
   "outputs": [],
   "source": [
    "x_in = tf.placeholder(tf.float32, shape=[None, 1], name='x')\n",
    "y_in = tf.placeholder(tf.float32, shape=None, name='y')"
   ]
  },
  {
   "cell_type": "code",
   "execution_count": 8,
   "metadata": {},
   "outputs": [],
   "source": [
    "w = tf.get_variable('w', dtype=tf.float32, shape=[1,1], initializer=tf.contrib.layers.xavier_initializer())\n",
    "b = tf.get_variable('b', dtype=tf.float32, shape=[1,1], initializer=tf.contrib.layers.xavier_initializer())"
   ]
  },
  {
   "cell_type": "code",
   "execution_count": 9,
   "metadata": {},
   "outputs": [],
   "source": [
    "y_pred = tf.matmul(w, tf.transpose(x_in)) + b\n",
    "\n",
    "loss = tf.nn.sigmoid_cross_entropy_with_logits(labels=y_in, logits=y_pred)\n",
    "loss = tf.reduce_mean(loss)\n",
    "opt = tf.train.GradientDescentOptimizer(0.001)\n",
    "train = opt.minimize(loss)"
   ]
  },
  {
   "cell_type": "code",
   "execution_count": 12,
   "metadata": {},
   "outputs": [
    {
     "name": "stdout",
     "output_type": "stream",
     "text": [
      "loss:  32.450092\n",
      "loss:  [array([[1.2781401]], dtype=float32), array([[0.349041]], dtype=float32)]\n",
      "loss:  0.6951392\n",
      "loss:  [array([[-0.00379896]], dtype=float32), array([[0.25454766]], dtype=float32)]\n",
      "loss:  0.69436723\n",
      "loss:  [array([[-0.00297167]], dtype=float32), array([[0.1991055]], dtype=float32)]\n",
      "loss:  0.6938933\n",
      "loss:  [array([[-0.00232398]], dtype=float32), array([[0.1557049]], dtype=float32)]\n",
      "loss:  0.6936031\n",
      "loss:  [array([[-0.00181719]], dtype=float32), array([[0.12174843]], dtype=float32)]\n",
      "loss:  0.69342566\n",
      "loss:  [array([[-0.00142079]], dtype=float32), array([[0.09518942]], dtype=float32)]\n",
      "loss:  0.69331956\n",
      "loss:  [array([[-0.0011108]], dtype=float32), array([[0.07442054]], dtype=float32)]\n",
      "loss:  0.6932515\n",
      "loss:  [array([[-0.00086841]], dtype=float32), array([[0.05818138]], dtype=float32)]\n",
      "loss:  0.6932118\n",
      "loss:  [array([[-0.0006789]], dtype=float32), array([[0.04548492]], dtype=float32)]\n",
      "loss:  0.6931856\n",
      "loss:  [array([[-0.00053074]], dtype=float32), array([[0.03555879]], dtype=float32)]\n"
     ]
    }
   ],
   "source": [
    "with tf.Session() as sess:\n",
    "    sess.run(tf.global_variables_initializer())\n",
    "    \n",
    "    for step in range(40000):\n",
    "        sess.run(train, feed_dict={x_in:x, y_in:y})\n",
    "        if step%4000==0:\n",
    "            print(\"loss: \", sess.run(loss, feed_dict={x_in:x, y_in:y}))\n",
    "            print(\"loss: \", sess.run([w, b]))\n",
    "            y_bckup = sess.run(y_pred, feed_dict={x_in:x, y_in:y})"
   ]
  },
  {
   "cell_type": "code",
   "execution_count": null,
   "metadata": {},
   "outputs": [],
   "source": [
    "plt.scatter(x, y.T)\n",
    "plt.plot(x, y_bckup.T, c='r')"
   ]
  },
  {
   "cell_type": "code",
   "execution_count": null,
   "metadata": {},
   "outputs": [],
   "source": []
  }
 ],
 "metadata": {
  "kernelspec": {
   "display_name": "Python 3",
   "language": "python",
   "name": "python3"
  },
  "language_info": {
   "codemirror_mode": {
    "name": "ipython",
    "version": 3
   },
   "file_extension": ".py",
   "mimetype": "text/x-python",
   "name": "python",
   "nbconvert_exporter": "python",
   "pygments_lexer": "ipython3",
   "version": "3.6.6"
  }
 },
 "nbformat": 4,
 "nbformat_minor": 2
}
